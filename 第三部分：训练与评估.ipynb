{
 "cells": [
  {
   "cell_type": "code",
   "execution_count": 3,
   "id": "511b8d1e",
   "metadata": {},
   "outputs": [],
   "source": [
    "# 一个完整的训练过程如下所示：\n",
    "def train(epoch):\n",
    "    model.train()\n",
    "    train_loss = 0\n",
    "    for data, label in train_loader:\n",
    "        data, label = data.cuda(), label.cuda() # 数据转换到gpu\n",
    "        optimizer.zero_grad()                   # 梯度清零\n",
    "        output = model(data)                    # 模型训练   \n",
    "        loss = criterion(label, output)         # 损失函数\n",
    "        loss.backward()                         #  将loss反向传播\n",
    "        optimizer.step()                        #  使用优化器更新模型参数\n",
    "        train_loss += loss.item()*data.size(0)  #  损失值的计算\n",
    "        train_loss = train_loss/len(train_loader.dataset)\n",
    "        print('Epoch: {} \\tTraining Loss: {:.6f}'.format(epoch, train_loss))\n",
    "\n"
   ]
  },
  {
   "cell_type": "code",
   "execution_count": 5,
   "id": "d2d0f5d6",
   "metadata": {},
   "outputs": [],
   "source": [
    "# 一个完整的验证过程如下所示：\n",
    "def val(epoch):       \n",
    "    model.eval()\n",
    "    val_loss = 0\n",
    "    with torch.no_grad():                          # 不进行梯度计算\n",
    "        for data, label in val_loader:\n",
    "            data, label = data.cuda(), label.cuda()\n",
    "            output = model(data)\n",
    "            preds = torch.argmax(output, 1)        #  选择概率最大的\n",
    "            loss = criterion(output, label)\n",
    "            val_loss += loss.item()*data.size(0)\n",
    "            running_accu += torch.sum(preds == label.data)\n",
    "    val_loss = val_loss/len(val_loader.dataset)\n",
    "    print('Epoch: {} \\tTraining Loss: {:.6f}'.format(epoch, val_loss))\n"
   ]
  },
  {
   "cell_type": "code",
   "execution_count": null,
   "id": "acb50070",
   "metadata": {},
   "outputs": [],
   "source": []
  }
 ],
 "metadata": {
  "kernelspec": {
   "display_name": "Python [conda env:bianbian_ML] *",
   "language": "python",
   "name": "conda-env-bianbian_ML-py"
  },
  "language_info": {
   "codemirror_mode": {
    "name": "ipython",
    "version": 3
   },
   "file_extension": ".py",
   "mimetype": "text/x-python",
   "name": "python",
   "nbconvert_exporter": "python",
   "pygments_lexer": "ipython3",
   "version": "3.8.10"
  }
 },
 "nbformat": 4,
 "nbformat_minor": 5
}
